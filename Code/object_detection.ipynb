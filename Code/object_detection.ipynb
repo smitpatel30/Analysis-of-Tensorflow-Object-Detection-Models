
from tracemalloc import start
import cv2
import numpy as np  

import tensorflow as tf
import sys
#provide path of yor object_detection module under tensorflow
sys.path.append('C:/Users/SMIT/PycharmProjects/BallDetection/venv/Tensorflow/models/research/object_detection')


from object_detection.utils import label_map_util
from object_detection.utils import visualization_utils as viz_utils

import numpy as np 
from PIL import Image
import matplotlib.pyplot as plt
import warnings 
warnings.filterwarnings('ignore')
import os
os.environ['TF_CPP_MIN_LOG_LEVEL']='2'
import time

cap = cv2.VideoCapture(0)  
# cap.set(cv2.CAP_PROP_FRAME_WIDTH,1280)
# cap.set(cv2.CAP_PROP_FRAME_HEIGHT,200)

start_time = 0

#provide path of saved model
path_to_save_model = 'C:/Users/SMIT/PycharmProjects/BallDetection/venv/Tensorflow/code/saved_model_SSD/'


detect_fn = tf.saved_model.load(path_to_save_model)
print('Done!')


def load_image_into_numpy_aray(path):
    return np.array(Image.open(path))

#provide path of label file
category_index = label_map_util.create_category_index_from_labelmap('C:/Users/SMIT/PycharmProjects/BallDetection/venv/Tensorflow/code/label_map.pbtxt', use_display_name=True)


while True:  
    ret, frame = cap.read()   
    frame = cv2.resize(frame,(640,480))
    #print(width,height)
    end_time = time.time()
    d_time = end_time - start_time
    fps = 1/(d_time)
    fps = "{:.2f}".format(fps)
    start_time = end_time
    #cv2.putText(frame,str(fps),(100,200),cv2.FONT_HERSHEY_DUPLEX,2,(0,0,255))
    #cv2.imshow('frame',frame) 
    input_tensor = tf.convert_to_tensor(frame)
    input_tensor = input_tensor[tf.newaxis, ...]
    detections = detect_fn(input_tensor)
    num_detections = int(detections.pop('num_detections'))
    detections = {key:value[0, :num_detections].numpy()
                for key, value in detections.items()}
    
    detections['num_detections'] = num_detections
    
    detections['detection_classes'] = detections['detection_classes'].astype(np.int64)

    image_np_with_detection = frame.copy()

    img_predict = viz_utils.visualize_boxes_and_labels_on_image_array(
        image_np_with_detection,
        detections['detection_boxes'],
        detections['detection_classes'],
        detections['detection_scores'],
        category_index,
        use_normalized_coordinates=True,
        max_boxes_to_draw=100,
        min_score_thresh=0.5,
        agnostic_mode=False
    )  
    cv2.putText(image_np_with_detection,f'FPS :- {fps}',(50,100),cv2.FONT_HERSHEY_DUPLEX,2,(0,0,255))
    cv2.imshow("detection",image_np_with_detection)
    if cv2.waitKey(1) & 0xFF == ord('q'):  
        break 



# When everything done, release the capture  
cap.release()  
cv2.destroyAllWindows() 
